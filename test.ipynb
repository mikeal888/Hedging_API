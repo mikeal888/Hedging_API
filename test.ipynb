{
 "cells": [
  {
   "cell_type": "code",
   "execution_count": 46,
   "metadata": {},
   "outputs": [],
   "source": [
    "# Import the libraries\n",
    "import numpy as np\n",
    "import pandas as pd\n",
    "import plotly.graph_objects as go\n",
    "import datetime as dt\n",
    "import pandas_datareader.data as web\n",
    "import yfinance as yf\n",
    "\n",
    "# overide default yfinance download method\n",
    "yf.pdr_override()\n",
    "# set backend of pandas to plotly\n",
    "pd.options.plotting.backend = \"plotly\""
   ]
  },
  {
   "cell_type": "code",
   "execution_count": 47,
   "metadata": {},
   "outputs": [],
   "source": [
    "ticker = \"GS\"\n",
    "# Get todays date  in year, date, month format\n",
    "date = dt.date.today()\n",
    "type = \"call\""
   ]
  },
  {
   "cell_type": "code",
   "execution_count": 48,
   "metadata": {},
   "outputs": [],
   "source": [
    "def get_data(ticker: str, type: str, date: dt.date) -> pd.DataFrame:\n",
    "    \"\"\" \n",
    "    This function will return a pandas dataframe of the options data for a given ticker, expirey date, and option type\n",
    "    \n",
    "    Parameters\n",
    "    ----------\n",
    "    ticker : str\n",
    "        The ticker of the stock you want to get the options data for\n",
    "    date : datetime.date\n",
    "        The date you want to get the options data for\n",
    "    type : str\n",
    "    \"\"\"\n",
    "    # Get options data\n",
    "    try:    \n",
    "        options = web.YahooOptions(ticker)\n",
    "        options.headers = {'User-Agent': 'Firefox'}\n",
    "    except:\n",
    "        print(\"Error: Could not get options data for ticker: \", ticker)\n",
    "        return None\n",
    "\n",
    "    # Get the call data\n",
    "    expirey_dates = options._get_expiry_dates()\n",
    "    # Get the closest expirey date to today\n",
    "    closest_date = min(expirey_dates, key=lambda x: abs(x - date))\n",
    "    time_delta = closest_date - date\n",
    "\n",
    "    # Get the call data\n",
    "    if type == \"call\":\n",
    "        data = options.get_call_data(expiry=closest_date)\n",
    "    elif type == \"put\":\n",
    "        data = options.get_put_data(expiry=closest_date)\n",
    "\n",
    "    return data"
   ]
  },
  {
   "cell_type": "code",
   "execution_count": 50,
   "metadata": {},
   "outputs": [],
   "source": [
    "class OptionsData:\n",
    "\n",
    "    def __init__(self, ticker: str, expirey: dt.date, option_type: str):\n",
    "        self.ticker = ticker\n",
    "        self.expirey = expirey\n",
    "        self.option_type = option_type\n",
    "        self.data = self.get_closest_data()\n",
    "    \n",
    "    def get_closest_data(self) -> pd.DataFrame:\n",
    "        \"\"\" \n",
    "        This function will return a pandas dataframe of the options data for a given ticker, \n",
    "        expirey date, and option type. It will return the closest expirey date to the given date\n",
    "        \n",
    "        Parameters\n",
    "        ----------\n",
    "        ticker : str\n",
    "            The ticker of the stock you want to get the options data for\n",
    "        date : datetime.date\n",
    "            The date you want to get the options data for\n",
    "        type : str\n",
    "            The type of option you want to get the data for. Must be either 'call' or 'put'\n",
    "        \n",
    "        Returns\n",
    "        -------\n",
    "        data : pd.DataFrame\n",
    "            A pandas dataframe of the options data for the given ticker, expirey date, and option type\n",
    "        \"\"\"\n",
    "        try:    \n",
    "            options = web.YahooOptions(self.ticker)\n",
    "            options.headers = {'User-Agent': 'Firefox'}\n",
    "        except:\n",
    "            print(\"Error: Could not get options data for ticker: \", self.ticker)\n",
    "            return None\n",
    "        \n",
    "        # Get \n",
    "        \n",
    "        data = web.get_data_yahoo(self.ticker, self.expirey, self.expirey)\n",
    "        options = yf.Ticker(self.ticker).option_chain(self.expirey)\n",
    "        \n",
    "        # Get the call data\n",
    "        if type == \"call\":\n",
    "            data = options.get_call_data(expiry=closest_date)\n",
    "        elif type == \"put\":\n",
    "            data = options.get_put_data(expiry=closest_date)\n",
    "\n",
    "        else:\n",
    "            raise ValueError(\"option_type must be either 'call' or 'put'\")\n",
    "        \n",
    "        # merge the options data with the stock data\n",
    "        data = data.merge(options, left_index=True, right_index=True)\n",
    "        return data"
   ]
  },
  {
   "cell_type": "code",
   "execution_count": 52,
   "metadata": {},
   "outputs": [
    {
     "ename": "ValueError",
     "evalue": "Expiration `2023-03-25` cannot be found. Available expiration are: [2023-03-31, 2023-04-06, 2023-04-14, 2023-04-21, 2023-04-28, 2023-05-19, 2023-06-16, 2023-07-21, 2023-09-15, 2023-10-20, 2023-12-15, 2024-01-19, 2024-06-21, 2025-01-17, 2025-06-20, 2025-12-19]",
     "output_type": "error",
     "traceback": [
      "\u001b[0;31m---------------------------------------------------------------------------\u001b[0m",
      "\u001b[0;31mValueError\u001b[0m                                Traceback (most recent call last)",
      "Cell \u001b[0;32mIn[52], line 1\u001b[0m\n\u001b[0;32m----> 1\u001b[0m yf\u001b[39m.\u001b[39;49mTicker(ticker)\u001b[39m.\u001b[39;49moption_chain(date)\n",
      "File \u001b[0;32m~/miniconda3/lib/python3.10/site-packages/yfinance/ticker.py:86\u001b[0m, in \u001b[0;36mTicker.option_chain\u001b[0;34m(self, date, proxy, tz)\u001b[0m\n\u001b[1;32m     84\u001b[0m     \u001b[39mself\u001b[39m\u001b[39m.\u001b[39m_download_options()\n\u001b[1;32m     85\u001b[0m \u001b[39mif\u001b[39;00m date \u001b[39mnot\u001b[39;00m \u001b[39min\u001b[39;00m \u001b[39mself\u001b[39m\u001b[39m.\u001b[39m_expirations:\n\u001b[0;32m---> 86\u001b[0m     \u001b[39mraise\u001b[39;00m \u001b[39mValueError\u001b[39;00m(\n\u001b[1;32m     87\u001b[0m         \u001b[39m\"\u001b[39m\u001b[39mExpiration `\u001b[39m\u001b[39m%s\u001b[39;00m\u001b[39m` cannot be found. \u001b[39m\u001b[39m\"\u001b[39m\n\u001b[1;32m     88\u001b[0m         \u001b[39m\"\u001b[39m\u001b[39mAvailable expiration are: [\u001b[39m\u001b[39m%s\u001b[39;00m\u001b[39m]\u001b[39m\u001b[39m\"\u001b[39m \u001b[39m%\u001b[39m (\n\u001b[1;32m     89\u001b[0m             date, \u001b[39m'\u001b[39m\u001b[39m, \u001b[39m\u001b[39m'\u001b[39m\u001b[39m.\u001b[39mjoin(\u001b[39mself\u001b[39m\u001b[39m.\u001b[39m_expirations)))\n\u001b[1;32m     90\u001b[0m date \u001b[39m=\u001b[39m \u001b[39mself\u001b[39m\u001b[39m.\u001b[39m_expirations[date]\n\u001b[1;32m     91\u001b[0m options \u001b[39m=\u001b[39m \u001b[39mself\u001b[39m\u001b[39m.\u001b[39m_download_options(date, proxy\u001b[39m=\u001b[39mproxy)\n",
      "\u001b[0;31mValueError\u001b[0m: Expiration `2023-03-25` cannot be found. Available expiration are: [2023-03-31, 2023-04-06, 2023-04-14, 2023-04-21, 2023-04-28, 2023-05-19, 2023-06-16, 2023-07-21, 2023-09-15, 2023-10-20, 2023-12-15, 2024-01-19, 2024-06-21, 2025-01-17, 2025-06-20, 2025-12-19]"
     ]
    }
   ],
   "source": [
    "yf.Ticker(ticker).option_chain(date)\n"
   ]
  },
  {
   "cell_type": "code",
   "execution_count": 39,
   "metadata": {},
   "outputs": [
    {
     "data": {
      "text/plain": [
       "[datetime.date(2023, 3, 31),\n",
       " datetime.date(2023, 4, 6),\n",
       " datetime.date(2023, 4, 14),\n",
       " datetime.date(2023, 4, 21),\n",
       " datetime.date(2023, 4, 28),\n",
       " datetime.date(2023, 5, 19),\n",
       " datetime.date(2023, 6, 16),\n",
       " datetime.date(2023, 7, 21),\n",
       " datetime.date(2023, 9, 15),\n",
       " datetime.date(2023, 10, 20),\n",
       " datetime.date(2023, 12, 15),\n",
       " datetime.date(2024, 1, 19),\n",
       " datetime.date(2024, 6, 21),\n",
       " datetime.date(2025, 1, 17),\n",
       " datetime.date(2025, 6, 20),\n",
       " datetime.date(2025, 12, 19)]"
      ]
     },
     "execution_count": 39,
     "metadata": {},
     "output_type": "execute_result"
    }
   ],
   "source": [
    "expirey_dates"
   ]
  },
  {
   "cell_type": "code",
   "execution_count": null,
   "metadata": {},
   "outputs": [],
   "source": []
  }
 ],
 "metadata": {
  "kernelspec": {
   "display_name": "base",
   "language": "python",
   "name": "python3"
  },
  "language_info": {
   "codemirror_mode": {
    "name": "ipython",
    "version": 3
   },
   "file_extension": ".py",
   "mimetype": "text/x-python",
   "name": "python",
   "nbconvert_exporter": "python",
   "pygments_lexer": "ipython3",
   "version": "3.10.9"
  },
  "orig_nbformat": 4
 },
 "nbformat": 4,
 "nbformat_minor": 2
}
